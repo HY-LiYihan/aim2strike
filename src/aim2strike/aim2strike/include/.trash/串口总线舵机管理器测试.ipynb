{
 "cells": [
  {
   "cell_type": "markdown",
   "id": "a5775e24",
   "metadata": {},
   "source": [
    "## 初始化"
   ]
  },
  {
   "cell_type": "code",
   "execution_count": 1,
   "id": "95cb2d6f",
   "metadata": {},
   "outputs": [
    {
     "name": "stdout",
     "output_type": "stream",
     "text": [
      "发现舵机: 1\n"
     ]
    }
   ],
   "source": [
    "import time\n",
    "import serial\n",
    "import struct\n",
    "from uart_servo import UartServoManager\n",
    "from data_table import *\n",
    "# 参数配置\n",
    "# 角度定义\n",
    "SERVO_PORT_NAME =  'COM4' # 舵机串口号\n",
    "SERVO_BAUDRATE = 115200 # 舵机的波特率\n",
    "\n",
    "# 初始化串口\n",
    "uart = serial.Serial(port=SERVO_PORT_NAME, baudrate=SERVO_BAUDRATE,\\\n",
    "\t\t\t\t\t parity=serial.PARITY_NONE, stopbits=1,\\\n",
    "\t\t\t\t\t bytesize=8,timeout=0)\n",
    "\n",
    "uservo = UartServoManager(uart, servo_id_list=[1])"
   ]
  },
  {
   "cell_type": "markdown",
   "id": "c5dc8bc5",
   "metadata": {},
   "source": [
    "## 通讯检测"
   ]
  },
  {
   "cell_type": "code",
   "execution_count": 2,
   "id": "636e2f2c",
   "metadata": {},
   "outputs": [
    {
     "data": {
      "text/plain": [
       "True"
      ]
     },
     "execution_count": 2,
     "metadata": {},
     "output_type": "execute_result"
    }
   ],
   "source": [
    "servo_id = 1\n",
    "uservo.ping(servo_id)"
   ]
  },
  {
   "cell_type": "markdown",
   "id": "54d95163",
   "metadata": {},
   "source": [
    "## 数据读取"
   ]
  },
  {
   "cell_type": "code",
   "execution_count": 5,
   "id": "12c6e1f6",
   "metadata": {},
   "outputs": [
    {
     "data": {
      "text/plain": [
       "1009"
      ]
     },
     "execution_count": 5,
     "metadata": {},
     "output_type": "execute_result"
    }
   ],
   "source": [
    "# 读取数据\n",
    "uservo.read_data_by_name(servo_id, \"CURRENT_POSITION\")"
   ]
  },
  {
   "cell_type": "code",
   "execution_count": 4,
   "id": "b8f7cf19",
   "metadata": {},
   "outputs": [
    {
     "data": {
      "text/plain": [
       "0"
      ]
     },
     "execution_count": 4,
     "metadata": {},
     "output_type": "execute_result"
    }
   ],
   "source": [
    "uservo.read_data_by_name(servo_id, \"CURRENT_VELOCITY\")"
   ]
  },
  {
   "cell_type": "code",
   "execution_count": 5,
   "id": "797d03da",
   "metadata": {},
   "outputs": [],
   "source": [
    "# 固件里面的这个位置有BUG\n",
    "# uservo.read_data_by_name(servo_id, \"TARGET_POSITION\")"
   ]
  },
  {
   "cell_type": "markdown",
   "id": "cb14b2a9",
   "metadata": {},
   "source": [
    "## 数据写入\n"
   ]
  },
  {
   "cell_type": "code",
   "execution_count": 5,
   "id": "6661f71f",
   "metadata": {},
   "outputs": [],
   "source": [
    "# 写入目标位置\n",
    "uservo.write_data_by_name(servo_id, \"TARGET_POSITION\", 1024)"
   ]
  },
  {
   "cell_type": "markdown",
   "id": "22c10a8a",
   "metadata": {},
   "source": [
    "## 异步写与执行"
   ]
  },
  {
   "cell_type": "code",
   "execution_count": 2,
   "id": "061ddfa5",
   "metadata": {},
   "outputs": [
    {
     "data": {
      "text/plain": [
       "True"
      ]
     },
     "execution_count": 2,
     "metadata": {},
     "output_type": "execute_result"
    }
   ],
   "source": [
    "servo_id = 1\n",
    "position = 4095\n",
    "runtime_ms = 2000\n",
    "uservo.async_set_position(servo_id, position, runtime_ms)"
   ]
  },
  {
   "cell_type": "markdown",
   "id": "bbbad126",
   "metadata": {},
   "source": [
    "## 异步写执行"
   ]
  },
  {
   "cell_type": "code",
   "execution_count": 3,
   "id": "8883303e",
   "metadata": {},
   "outputs": [],
   "source": [
    "uservo.async_action()\n",
    "# 等待所有舵机执行完成动作\n",
    "uservo.wait_all()"
   ]
  },
  {
   "cell_type": "markdown",
   "id": "1aa802d0",
   "metadata": {},
   "source": [
    "## 同步写执行"
   ]
  },
  {
   "cell_type": "code",
   "execution_count": 2,
   "id": "3d4dc1f2",
   "metadata": {},
   "outputs": [],
   "source": [
    "servo_id_list = [1, 2, 3]\n",
    "position_list = [1000, 1024, 1024]\n",
    "runtime_ms_list = [1000, 1000, 1000]\n",
    "uservo.sync_set_position(servo_id_list, position_list, runtime_ms_list)\n",
    "# 等待所有舵机执行完成动作\n",
    "uservo.wait_all()"
   ]
  },
  {
   "cell_type": "markdown",
   "id": "1030c25f",
   "metadata": {},
   "source": [
    "## 控制角度与等待"
   ]
  },
  {
   "cell_type": "code",
   "execution_count": 3,
   "id": "3f34dff6",
   "metadata": {},
   "outputs": [],
   "source": [
    "# 设置单个舵机位置并等待\n",
    "servo_id = 1\n",
    "uservo.set_position(servo_id, 4000, is_wait=True)"
   ]
  },
  {
   "cell_type": "code",
   "execution_count": 8,
   "id": "0b4492fa",
   "metadata": {},
   "outputs": [],
   "source": [
    "# 设置位置\n",
    "uservo.set_position(servo_id, 2000)\n",
    "# 等待所有舵机执行完成动作\n",
    "uservo.wait_all()"
   ]
  },
  {
   "cell_type": "code",
   "execution_count": 4,
   "id": "181819f3",
   "metadata": {},
   "outputs": [
    {
     "data": {
      "text/plain": [
       "1009"
      ]
     },
     "execution_count": 4,
     "metadata": {},
     "output_type": "execute_result"
    }
   ],
   "source": [
    "# 查询当前位置\n",
    "uservo.get_position(servo_id)"
   ]
  },
  {
   "cell_type": "code",
   "execution_count": 5,
   "id": "3b62f843",
   "metadata": {},
   "outputs": [],
   "source": [
    "# 在两个点位之间往返移动舵机\n",
    "servo_id = 1\n",
    "for i in range(10):\n",
    "    uservo.set_position(servo_id, 0, is_wait=True)\n",
    "    uservo.set_position(servo_id, 1000, is_wait=True)"
   ]
  },
  {
   "cell_type": "markdown",
   "id": "7bc3a843",
   "metadata": {},
   "source": [
    "## DC直流电机模式"
   ]
  },
  {
   "cell_type": "code",
   "execution_count": 2,
   "id": "5843686c",
   "metadata": {},
   "outputs": [],
   "source": [
    "servo_id = 1\n",
    "direction = DC_DIR_CW # 方向\n",
    "pwm = 50 # 转速\n",
    "uservo.dc_rotate(servo_id, direction, pwm)"
   ]
  },
  {
   "cell_type": "code",
   "execution_count": 8,
   "id": "0d532a14",
   "metadata": {},
   "outputs": [],
   "source": [
    "uservo.dc_stop(servo_id)"
   ]
  },
  {
   "cell_type": "code",
   "execution_count": 7,
   "id": "ca3d9fd2",
   "metadata": {},
   "outputs": [],
   "source": [
    "uservo.write_data_by_name(servo_id, \"MOTOR_MODE\", MOTOR_MODE_DC)\n",
    "# time.sleep(0.001)\n",
    "uservo.write_data_by_name(servo_id, \"MOTOR_DIR\", DC_DIR_CW)\n",
    "# time.sleep(0.001)\n",
    "# 设置转速 [0, 100]\n",
    "uservo.write_data_by_name(servo_id, \"MOTOR_SPEED\", 50)"
   ]
  },
  {
   "cell_type": "code",
   "execution_count": 6,
   "id": "385d3c21",
   "metadata": {},
   "outputs": [],
   "source": [
    "# 设置转速 [0, 100]\n",
    "uservo.write_data_by_name(servo_id, \"MOTOR_SPEED\", 0)"
   ]
  }
 ],
 "metadata": {
  "kernelspec": {
   "display_name": "Python 3 (ipykernel)",
   "language": "python",
   "name": "python3"
  },
  "language_info": {
   "codemirror_mode": {
    "name": "ipython",
    "version": 3
   },
   "file_extension": ".py",
   "mimetype": "text/x-python",
   "name": "python",
   "nbconvert_exporter": "python",
   "pygments_lexer": "ipython3",
   "version": "3.9.6"
  }
 },
 "nbformat": 4,
 "nbformat_minor": 5
}
