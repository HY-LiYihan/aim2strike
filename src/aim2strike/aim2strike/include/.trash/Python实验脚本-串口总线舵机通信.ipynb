{
 "cells": [
  {
   "cell_type": "code",
   "execution_count": 2,
   "id": "8390d4db",
   "metadata": {},
   "outputs": [],
   "source": [
    "import time\n",
    "import serial\n",
    "\n",
    "# 参数配置\n",
    "# 角度定义\n",
    "SERVO_PORT_NAME =  'COM4' # 舵机串口号\n",
    "SERVO_BAUDRATE = 115200 # 舵机的波特率\n",
    "SERVO_ID = 1  # 舵机的ID号\n",
    "\n",
    "# 初始化串口\n",
    "uart = serial.Serial(port=SERVO_PORT_NAME, baudrate=SERVO_BAUDRATE,\\\n",
    "    parity=serial.PARITY_NONE, stopbits=1,\\\n",
    "    bytesize=8,timeout=0)"
   ]
  },
  {
   "cell_type": "code",
   "execution_count": 3,
   "id": "640d9059",
   "metadata": {},
   "outputs": [
    {
     "data": {
      "text/plain": [
       "6"
      ]
     },
     "execution_count": 3,
     "metadata": {},
     "output_type": "execute_result"
    }
   ],
   "source": [
    "# 测试Ping指令\n",
    "SERVO_ID = 0x01\n",
    "PARAM_SIZE = 0x02\n",
    "CMD_ID = 0x01\n",
    "# 数据帧\n",
    "data_frame = bytearray([0xFF, 0xFF, SERVO_ID, PARAM_SIZE, CMD_ID, 0xFB])\n",
    "uart.write(data_frame)"
   ]
  },
  {
   "cell_type": "code",
   "execution_count": 4,
   "id": "723d8510",
   "metadata": {},
   "outputs": [
    {
     "data": {
      "text/plain": [
       "b'\\xff\\xf5\\x01\\x02\\x00\\xfc'"
      ]
     },
     "execution_count": 4,
     "metadata": {},
     "output_type": "execute_result"
    }
   ],
   "source": [
    "uart.read_all()"
   ]
  },
  {
   "cell_type": "code",
   "execution_count": 6,
   "id": "7caea310",
   "metadata": {},
   "outputs": [
    {
     "data": {
      "text/plain": [
       "'0xfb'"
      ]
     },
     "execution_count": 6,
     "metadata": {},
     "output_type": "execute_result"
    }
   ],
   "source": [
    "hex(0xFF - sum(data_frame[2:-1]))"
   ]
  }
 ],
 "metadata": {
  "kernelspec": {
   "display_name": "Python 3 (ipykernel)",
   "language": "python",
   "name": "python3"
  },
  "language_info": {
   "codemirror_mode": {
    "name": "ipython",
    "version": 3
   },
   "file_extension": ".py",
   "mimetype": "text/x-python",
   "name": "python",
   "nbconvert_exporter": "python",
   "pygments_lexer": "ipython3",
   "version": "3.9.6"
  }
 },
 "nbformat": 4,
 "nbformat_minor": 5
}
