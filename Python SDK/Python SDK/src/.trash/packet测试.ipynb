{
 "cells": [
  {
   "cell_type": "code",
   "execution_count": 1,
   "id": "1af6d85e",
   "metadata": {},
   "outputs": [],
   "source": [
    "from packet import Packet"
   ]
  },
  {
   "cell_type": "code",
   "execution_count": 2,
   "id": "205d25e7",
   "metadata": {},
   "outputs": [
    {
     "data": {
      "text/plain": [
       "b'\\xff\\xff\\x01\\x02\\x01\\xfb'"
      ]
     },
     "execution_count": 2,
     "metadata": {},
     "output_type": "execute_result"
    }
   ],
   "source": [
    "# 测试Ping指令\n",
    "servo_id = 0x01\n",
    "cmd_id = 0x01\n",
    "\n",
    "Packet.pack(servo_id, cmd_id)"
   ]
  }
 ],
 "metadata": {
  "kernelspec": {
   "display_name": "Python 3 (ipykernel)",
   "language": "python",
   "name": "python3"
  },
  "language_info": {
   "codemirror_mode": {
    "name": "ipython",
    "version": 3
   },
   "file_extension": ".py",
   "mimetype": "text/x-python",
   "name": "python",
   "nbconvert_exporter": "python",
   "pygments_lexer": "ipython3",
   "version": "3.9.6"
  }
 },
 "nbformat": 4,
 "nbformat_minor": 5
}
